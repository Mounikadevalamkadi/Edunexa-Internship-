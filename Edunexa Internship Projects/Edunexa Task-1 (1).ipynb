{
 "cells": [
  {
   "cell_type": "markdown",
   "id": "40cfda45",
   "metadata": {},
   "source": [
    "1.Choose a dataset of your interest (e.g., from Kaggle) and explore its basic characteristics. Use Python with libraries like Pandas to load the dataset, check for missing values, and display summary statistics.\n",
    "\n"
   ]
  },
  {
   "cell_type": "code",
   "execution_count": 1,
   "id": "54207477",
   "metadata": {},
   "outputs": [],
   "source": [
    "import pandas as pd"
   ]
  },
  {
   "cell_type": "code",
   "execution_count": 2,
   "id": "1a0b62eb",
   "metadata": {},
   "outputs": [],
   "source": [
    "df = pd.read_csv(\"C:\\Latest Covid-19 Data in Asia.csv\")"
   ]
  },
  {
   "cell_type": "code",
   "execution_count": 3,
   "id": "fb3d36c6",
   "metadata": {},
   "outputs": [
    {
     "name": "stdout",
     "output_type": "stream",
     "text": [
      "Head of the dataset:\n",
      "  Country/Other  Total Cases  Total Deaths  Total Recovered  Active Cases  \\\n",
      "0   Afghanistan       225850          7946         206436.0       11468.0   \n",
      "1       Armenia       449357          8751         435162.0        5444.0   \n",
      "2    Azerbaijan       832580         10302         822131.0         147.0   \n",
      "3       Bahrain       728053          1573         726036.0         444.0   \n",
      "4    Bangladesh      2045517         29477        1998448.0       17592.0   \n",
      "\n",
      "   Tot Cases/ 1M pop  Deaths/ 1M pop  Total Tests  Tests/ 1M pop  Population  \n",
      "0               5542             195    1305526.0        32034.0    40754388  \n",
      "1             151199            2945    3242901.0      1091164.0     2971966  \n",
      "2              80831            1000    7680488.0       745664.0    10300205  \n",
      "3             408105             882   10919039.0      6120596.0     1783983  \n",
      "4              12184             176   15254399.0        90862.0   167885689  \n"
     ]
    }
   ],
   "source": [
    "print(\"Head of the dataset:\")\n",
    "print(df.head())"
   ]
  },
  {
   "cell_type": "code",
   "execution_count": 4,
   "id": "a897e1f4",
   "metadata": {},
   "outputs": [
    {
     "name": "stdout",
     "output_type": "stream",
     "text": [
      "\n",
      "Missing values in the dataset:\n",
      "Country/Other        0\n",
      "Total Cases          0\n",
      "Total Deaths         0\n",
      "Total Recovered      3\n",
      "Active Cases         3\n",
      "Tot Cases/ 1M pop    0\n",
      "Deaths/ 1M pop       0\n",
      "Total Tests          2\n",
      "Tests/ 1M pop        2\n",
      "Population           0\n",
      "dtype: int64\n"
     ]
    }
   ],
   "source": [
    "print(\"\\nMissing values in the dataset:\")\n",
    "print(df.isnull().sum())"
   ]
  },
  {
   "cell_type": "code",
   "execution_count": 5,
   "id": "789de912",
   "metadata": {},
   "outputs": [
    {
     "name": "stdout",
     "output_type": "stream",
     "text": [
      "\n",
      "Summary statistics of the dataset:\n",
      "        Total Cases   Total Deaths  Total Recovered   Active Cases  \\\n",
      "count  5.000000e+01      50.000000     4.700000e+01      47.000000   \n",
      "mean   4.414706e+06   30994.100000     3.532997e+06   43784.127660   \n",
      "std    9.245461e+06   80053.019413     8.146371e+06  148478.340143   \n",
      "min    1.194500e+04      21.000000     3.487000e+03       0.000000   \n",
      "25%    3.327538e+05    1946.000000     3.113270e+05     189.500000   \n",
      "50%    9.224515e+05    9198.500000     8.279230e+05    3630.000000   \n",
      "75%    3.860411e+06   23905.000000     2.670878e+06   14034.500000   \n",
      "max    4.499829e+07  531930.000000     4.446578e+07  939553.000000   \n",
      "\n",
      "       Tot Cases/ 1M pop  Deaths/ 1M pop   Total Tests  Tests/ 1M pop  \\\n",
      "count          50.000000       50.000000  4.800000e+01   4.800000e+01   \n",
      "mean       160728.260000      700.580000  4.996582e+07   1.942359e+06   \n",
      "std        187123.306505      777.336402  1.379085e+08   3.412930e+06   \n",
      "min           347.000000        3.000000  7.850000e+03   7.553000e+03   \n",
      "25%         24567.500000      186.750000  3.088198e+06   2.034480e+05   \n",
      "50%         80201.000000      542.500000  1.140595e+07   6.918590e+05   \n",
      "75%        197419.250000      878.750000  3.708760e+07   1.909137e+06   \n",
      "max        697127.000000     4317.000000  9.307980e+08   1.991039e+07   \n",
      "\n",
      "         Population  \n",
      "count  5.000000e+01  \n",
      "mean   9.422714e+07  \n",
      "std    2.809444e+08  \n",
      "min    4.454310e+05  \n",
      "25%    5.329380e+06  \n",
      "50%    1.818684e+07  \n",
      "75%    4.903867e+07  \n",
      "max    1.448471e+09  \n"
     ]
    }
   ],
   "source": [
    "print(\"\\nSummary statistics of the dataset:\")\n",
    "print(df.describe())"
   ]
  },
  {
   "cell_type": "code",
   "execution_count": null,
   "id": "2d793083",
   "metadata": {},
   "outputs": [],
   "source": []
  }
 ],
 "metadata": {
  "kernelspec": {
   "display_name": "Python 3 (ipykernel)",
   "language": "python",
   "name": "python3"
  },
  "language_info": {
   "codemirror_mode": {
    "name": "ipython",
    "version": 3
   },
   "file_extension": ".py",
   "mimetype": "text/x-python",
   "name": "python",
   "nbconvert_exporter": "python",
   "pygments_lexer": "ipython3",
   "version": "3.11.5"
  }
 },
 "nbformat": 4,
 "nbformat_minor": 5
}
